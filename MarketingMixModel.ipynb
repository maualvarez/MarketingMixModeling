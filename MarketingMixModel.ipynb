{
 "cells": [
  {
   "cell_type": "code",
   "execution_count": 1,
   "id": "39755f4b-0ce9-4c9b-906b-b196d0ea3150",
   "metadata": {},
   "outputs": [],
   "source": [
    "import numpy as np\n",
    "import pandas as pd\n",
    "import datetime as dt\n",
    "import altair as alt"
   ]
  },
  {
   "cell_type": "code",
   "execution_count": 2,
   "id": "d90e5842-a87f-40bb-a310-df07623fb363",
   "metadata": {},
   "outputs": [],
   "source": [
    "def verify_nulls(data):\n",
    "    nRows, _ = data.shape\n",
    "    if data.isnull().any().any(): # Devuelve True si almenos uno es null\n",
    "        print( \"\\n TABLA DE DATOS NULOS\")\n",
    "        tablaNulos = pd.DataFrame(pd.concat([\n",
    "                                             data.isnull().any(), \n",
    "                                             data.isnull().sum(), \n",
    "                                             round(data.isnull().sum() / nRows * 100, 2), \n",
    "                                             data.dtypes], axis=1))\n",
    "        tablaNulos.columns = ['Nulos', 'Cantidad', '%_Nulos', 'Tipo_Dato']\n",
    "        tablaNulos.sort_values(by='%_Nulos', ascending = False, inplace = True)\n",
    "        display(tablaNulos[tablaNulos['Cantidad'] > 0])\n",
    "    else:\n",
    "        print(\"No existen Nulos\")"
   ]
  },
  {
   "cell_type": "code",
   "execution_count": 3,
   "id": "c8828558-e184-416d-a876-737dc9ffea08",
   "metadata": {},
   "outputs": [
    {
     "data": {
      "text/html": [
       "<div>\n",
       "<style scoped>\n",
       "    .dataframe tbody tr th:only-of-type {\n",
       "        vertical-align: middle;\n",
       "    }\n",
       "\n",
       "    .dataframe tbody tr th {\n",
       "        vertical-align: top;\n",
       "    }\n",
       "\n",
       "    .dataframe thead th {\n",
       "        text-align: right;\n",
       "    }\n",
       "</style>\n",
       "<table border=\"1\" class=\"dataframe\">\n",
       "  <thead>\n",
       "    <tr style=\"text-align: right;\">\n",
       "      <th></th>\n",
       "      <th>Date</th>\n",
       "      <th>Print</th>\n",
       "      <th>Other</th>\n",
       "      <th>Email</th>\n",
       "      <th>Radio</th>\n",
       "      <th>Facebook</th>\n",
       "      <th>Google</th>\n",
       "      <th>Pay TV</th>\n",
       "      <th>Open TV</th>\n",
       "    </tr>\n",
       "  </thead>\n",
       "  <tbody>\n",
       "    <tr>\n",
       "      <th>32</th>\n",
       "      <td>2020-08-16</td>\n",
       "      <td>4000</td>\n",
       "      <td>1000</td>\n",
       "      <td>5000</td>\n",
       "      <td>1000</td>\n",
       "      <td>8000</td>\n",
       "      <td>11000</td>\n",
       "      <td>2000</td>\n",
       "      <td>0</td>\n",
       "    </tr>\n",
       "    <tr>\n",
       "      <th>77</th>\n",
       "      <td>2021-06-27</td>\n",
       "      <td>0</td>\n",
       "      <td>2000</td>\n",
       "      <td>3000</td>\n",
       "      <td>0</td>\n",
       "      <td>3000</td>\n",
       "      <td>1000</td>\n",
       "      <td>19000</td>\n",
       "      <td>10000</td>\n",
       "    </tr>\n",
       "    <tr>\n",
       "      <th>72</th>\n",
       "      <td>2021-05-23</td>\n",
       "      <td>1000</td>\n",
       "      <td>0</td>\n",
       "      <td>3000</td>\n",
       "      <td>0</td>\n",
       "      <td>3000</td>\n",
       "      <td>2000</td>\n",
       "      <td>32000</td>\n",
       "      <td>45000</td>\n",
       "    </tr>\n",
       "    <tr>\n",
       "      <th>74</th>\n",
       "      <td>2021-06-06</td>\n",
       "      <td>0</td>\n",
       "      <td>0</td>\n",
       "      <td>7000</td>\n",
       "      <td>1000</td>\n",
       "      <td>3000</td>\n",
       "      <td>14000</td>\n",
       "      <td>0</td>\n",
       "      <td>0</td>\n",
       "    </tr>\n",
       "    <tr>\n",
       "      <th>13</th>\n",
       "      <td>2020-04-05</td>\n",
       "      <td>2000</td>\n",
       "      <td>0</td>\n",
       "      <td>7000</td>\n",
       "      <td>1000</td>\n",
       "      <td>5000</td>\n",
       "      <td>6000</td>\n",
       "      <td>1000</td>\n",
       "      <td>0</td>\n",
       "    </tr>\n",
       "  </tbody>\n",
       "</table>\n",
       "</div>"
      ],
      "text/plain": [
       "         Date  Print  Other  Email  Radio  Facebook  Google  Pay TV  Open TV\n",
       "32 2020-08-16   4000   1000   5000   1000      8000   11000    2000        0\n",
       "77 2021-06-27      0   2000   3000      0      3000    1000   19000    10000\n",
       "72 2021-05-23   1000      0   3000      0      3000    2000   32000    45000\n",
       "74 2021-06-06      0      0   7000   1000      3000   14000       0        0\n",
       "13 2020-04-05   2000      0   7000   1000      5000    6000    1000        0"
      ]
     },
     "execution_count": 3,
     "metadata": {},
     "output_type": "execute_result"
    }
   ],
   "source": [
    "df_inv_med = pd.read_csv('data/inversionmedia.csv')\n",
    "df_inv_med['Date']= pd.to_datetime(df_inv_med['Date'])\n",
    "df_inv_med.sample(5)"
   ]
  },
  {
   "cell_type": "code",
   "execution_count": 4,
   "id": "4a8a8a1a-c00e-4e86-a844-72871a316f77",
   "metadata": {},
   "outputs": [
    {
     "name": "stdout",
     "output_type": "stream",
     "text": [
      "No existen Nulos\n"
     ]
    }
   ],
   "source": [
    "verify_nulls(df_inv_med)"
   ]
  },
  {
   "cell_type": "code",
   "execution_count": 5,
   "id": "75d70c57-4419-4f3c-a03c-b39738851414",
   "metadata": {},
   "outputs": [
    {
     "data": {
      "text/html": [
       "<div>\n",
       "<style scoped>\n",
       "    .dataframe tbody tr th:only-of-type {\n",
       "        vertical-align: middle;\n",
       "    }\n",
       "\n",
       "    .dataframe tbody tr th {\n",
       "        vertical-align: top;\n",
       "    }\n",
       "\n",
       "    .dataframe thead th {\n",
       "        text-align: right;\n",
       "    }\n",
       "</style>\n",
       "<table border=\"1\" class=\"dataframe\">\n",
       "  <thead>\n",
       "    <tr style=\"text-align: right;\">\n",
       "      <th></th>\n",
       "      <th>Date</th>\n",
       "      <th>Sales</th>\n",
       "      <th>NPS</th>\n",
       "    </tr>\n",
       "  </thead>\n",
       "  <tbody>\n",
       "    <tr>\n",
       "      <th>13</th>\n",
       "      <td>2020-04-05</td>\n",
       "      <td>48208</td>\n",
       "      <td>32</td>\n",
       "    </tr>\n",
       "    <tr>\n",
       "      <th>8</th>\n",
       "      <td>2020-03-01</td>\n",
       "      <td>26335</td>\n",
       "      <td>62</td>\n",
       "    </tr>\n",
       "    <tr>\n",
       "      <th>39</th>\n",
       "      <td>2020-10-04</td>\n",
       "      <td>49674</td>\n",
       "      <td>59</td>\n",
       "    </tr>\n",
       "    <tr>\n",
       "      <th>42</th>\n",
       "      <td>2020-10-25</td>\n",
       "      <td>21444</td>\n",
       "      <td>61</td>\n",
       "    </tr>\n",
       "    <tr>\n",
       "      <th>62</th>\n",
       "      <td>2021-03-14</td>\n",
       "      <td>43164</td>\n",
       "      <td>60</td>\n",
       "    </tr>\n",
       "  </tbody>\n",
       "</table>\n",
       "</div>"
      ],
      "text/plain": [
       "         Date  Sales  NPS\n",
       "13 2020-04-05  48208   32\n",
       "8  2020-03-01  26335   62\n",
       "39 2020-10-04  49674   59\n",
       "42 2020-10-25  21444   61\n",
       "62 2021-03-14  43164   60"
      ]
     },
     "execution_count": 5,
     "metadata": {},
     "output_type": "execute_result"
    }
   ],
   "source": [
    "df_sales = pd.read_csv('data/sales.csv')\n",
    "df_sales['Date']= pd.to_datetime(df_sales['Date'])\n",
    "df_sales.sample(5)"
   ]
  },
  {
   "cell_type": "code",
   "execution_count": 6,
   "id": "19d9dcb0-1074-4561-83d7-59be9a8ae1bd",
   "metadata": {},
   "outputs": [
    {
     "name": "stdout",
     "output_type": "stream",
     "text": [
      "No existen Nulos\n"
     ]
    }
   ],
   "source": [
    "verify_nulls(df_sales)"
   ]
  },
  {
   "cell_type": "code",
   "execution_count": 7,
   "id": "11084c6e-7479-4841-9ff0-a976ad231f8b",
   "metadata": {},
   "outputs": [
    {
     "data": {
      "text/html": [
       "<div>\n",
       "<style scoped>\n",
       "    .dataframe tbody tr th:only-of-type {\n",
       "        vertical-align: middle;\n",
       "    }\n",
       "\n",
       "    .dataframe tbody tr th {\n",
       "        vertical-align: top;\n",
       "    }\n",
       "\n",
       "    .dataframe thead th {\n",
       "        text-align: right;\n",
       "    }\n",
       "</style>\n",
       "<table border=\"1\" class=\"dataframe\">\n",
       "  <thead>\n",
       "    <tr style=\"text-align: right;\">\n",
       "      <th></th>\n",
       "      <th>Date</th>\n",
       "      <th>Sales Name</th>\n",
       "    </tr>\n",
       "  </thead>\n",
       "  <tbody>\n",
       "    <tr>\n",
       "      <th>4</th>\n",
       "      <td>2020-02-16</td>\n",
       "      <td>FHSD</td>\n",
       "    </tr>\n",
       "    <tr>\n",
       "      <th>7</th>\n",
       "      <td>2020-05-24</td>\n",
       "      <td>Pacman</td>\n",
       "    </tr>\n",
       "    <tr>\n",
       "      <th>23</th>\n",
       "      <td>2021-02-14</td>\n",
       "      <td>Valentine's Day</td>\n",
       "    </tr>\n",
       "    <tr>\n",
       "      <th>14</th>\n",
       "      <td>2020-10-11</td>\n",
       "      <td>Daussera sale</td>\n",
       "    </tr>\n",
       "    <tr>\n",
       "      <th>19</th>\n",
       "      <td>2021-01-03</td>\n",
       "      <td>Christmas &amp; New Year Sale</td>\n",
       "    </tr>\n",
       "  </tbody>\n",
       "</table>\n",
       "</div>"
      ],
      "text/plain": [
       "         Date                 Sales Name\n",
       "4  2020-02-16                       FHSD\n",
       "7  2020-05-24                     Pacman\n",
       "23 2021-02-14            Valentine's Day\n",
       "14 2020-10-11              Daussera sale\n",
       "19 2021-01-03  Christmas & New Year Sale"
      ]
     },
     "execution_count": 7,
     "metadata": {},
     "output_type": "execute_result"
    }
   ],
   "source": [
    "df_spe_sale = pd.read_csv('data/specialsale.csv')\n",
    "df_spe_sale['Date']= pd.to_datetime(df_spe_sale['Date'])\n",
    "df_spe_sale.sample(5)"
   ]
  },
  {
   "cell_type": "code",
   "execution_count": 8,
   "id": "a48833b3-b0ef-4422-914b-13a1f60ec252",
   "metadata": {},
   "outputs": [
    {
     "name": "stdout",
     "output_type": "stream",
     "text": [
      "No existen Nulos\n"
     ]
    }
   ],
   "source": [
    "verify_nulls(df_spe_sale)"
   ]
  },
  {
   "cell_type": "code",
   "execution_count": 9,
   "id": "34066a8b-343d-4dd4-b16d-aae62812b341",
   "metadata": {
    "jupyter": {
     "source_hidden": true
    },
    "tags": []
   },
   "outputs": [],
   "source": [
    "# df_inv_comp = pd.read_csv('data/inversioncomp.csv')\n",
    "# df_inv_comp.sample(5)"
   ]
  },
  {
   "cell_type": "code",
   "execution_count": 10,
   "id": "0975266a-1e51-43f9-8cc7-d1d909994965",
   "metadata": {
    "jupyter": {
     "source_hidden": true
    },
    "tags": []
   },
   "outputs": [],
   "source": [
    "# verify_nulls(df_inv_comp)"
   ]
  },
  {
   "cell_type": "code",
   "execution_count": 11,
   "id": "76848b96-03c5-4a73-a83a-0fc95947072d",
   "metadata": {
    "jupyter": {
     "source_hidden": true
    },
    "tags": []
   },
   "outputs": [],
   "source": [
    "# df_sector = pd.read_csv('data/sector.csv')\n",
    "# df_sector.sample(5)"
   ]
  },
  {
   "cell_type": "code",
   "execution_count": 12,
   "id": "dbeeb828-b535-4a7d-b41c-7648412f477f",
   "metadata": {
    "jupyter": {
     "source_hidden": true
    },
    "tags": []
   },
   "outputs": [],
   "source": [
    "# verify_nulls(df_sector)"
   ]
  },
  {
   "cell_type": "code",
   "execution_count": 13,
   "id": "282ae937-5f01-4288-b884-57224804216d",
   "metadata": {},
   "outputs": [
    {
     "data": {
      "text/html": [
       "<div>\n",
       "<style scoped>\n",
       "    .dataframe tbody tr th:only-of-type {\n",
       "        vertical-align: middle;\n",
       "    }\n",
       "\n",
       "    .dataframe tbody tr th {\n",
       "        vertical-align: top;\n",
       "    }\n",
       "\n",
       "    .dataframe thead th {\n",
       "        text-align: right;\n",
       "    }\n",
       "</style>\n",
       "<table border=\"1\" class=\"dataframe\">\n",
       "  <thead>\n",
       "    <tr style=\"text-align: right;\">\n",
       "      <th></th>\n",
       "      <th>Date</th>\n",
       "      <th>Print</th>\n",
       "      <th>Other</th>\n",
       "      <th>Email</th>\n",
       "      <th>Radio</th>\n",
       "      <th>Facebook</th>\n",
       "      <th>Google</th>\n",
       "      <th>Pay TV</th>\n",
       "      <th>Open TV</th>\n",
       "      <th>invTotal</th>\n",
       "      <th>Sales</th>\n",
       "      <th>ROI</th>\n",
       "    </tr>\n",
       "  </thead>\n",
       "  <tbody>\n",
       "    <tr>\n",
       "      <th>45</th>\n",
       "      <td>2020-11-15</td>\n",
       "      <td>0</td>\n",
       "      <td>1000</td>\n",
       "      <td>2000</td>\n",
       "      <td>0</td>\n",
       "      <td>16000</td>\n",
       "      <td>16000</td>\n",
       "      <td>20000</td>\n",
       "      <td>35000</td>\n",
       "      <td>90000</td>\n",
       "      <td>55611</td>\n",
       "      <td>0.6179</td>\n",
       "    </tr>\n",
       "    <tr>\n",
       "      <th>46</th>\n",
       "      <td>2020-11-22</td>\n",
       "      <td>0</td>\n",
       "      <td>3000</td>\n",
       "      <td>2000</td>\n",
       "      <td>0</td>\n",
       "      <td>9000</td>\n",
       "      <td>1000</td>\n",
       "      <td>15000</td>\n",
       "      <td>25000</td>\n",
       "      <td>55000</td>\n",
       "      <td>56932</td>\n",
       "      <td>1.0351</td>\n",
       "    </tr>\n",
       "    <tr>\n",
       "      <th>2</th>\n",
       "      <td>2020-01-19</td>\n",
       "      <td>0</td>\n",
       "      <td>0</td>\n",
       "      <td>1000</td>\n",
       "      <td>1000</td>\n",
       "      <td>8000</td>\n",
       "      <td>7000</td>\n",
       "      <td>2000</td>\n",
       "      <td>35000</td>\n",
       "      <td>54000</td>\n",
       "      <td>3680</td>\n",
       "      <td>0.0681</td>\n",
       "    </tr>\n",
       "    <tr>\n",
       "      <th>1</th>\n",
       "      <td>2020-01-12</td>\n",
       "      <td>0</td>\n",
       "      <td>0</td>\n",
       "      <td>2000</td>\n",
       "      <td>1000</td>\n",
       "      <td>4000</td>\n",
       "      <td>2000</td>\n",
       "      <td>2000</td>\n",
       "      <td>15000</td>\n",
       "      <td>26000</td>\n",
       "      <td>13493</td>\n",
       "      <td>0.5190</td>\n",
       "    </tr>\n",
       "    <tr>\n",
       "      <th>86</th>\n",
       "      <td>2021-08-29</td>\n",
       "      <td>4000</td>\n",
       "      <td>1000</td>\n",
       "      <td>3000</td>\n",
       "      <td>0</td>\n",
       "      <td>15000</td>\n",
       "      <td>19000</td>\n",
       "      <td>12000</td>\n",
       "      <td>26000</td>\n",
       "      <td>80000</td>\n",
       "      <td>115393</td>\n",
       "      <td>1.4424</td>\n",
       "    </tr>\n",
       "  </tbody>\n",
       "</table>\n",
       "</div>"
      ],
      "text/plain": [
       "         Date  Print  Other  Email  Radio  Facebook  Google  Pay TV  Open TV  \\\n",
       "45 2020-11-15      0   1000   2000      0     16000   16000   20000    35000   \n",
       "46 2020-11-22      0   3000   2000      0      9000    1000   15000    25000   \n",
       "2  2020-01-19      0      0   1000   1000      8000    7000    2000    35000   \n",
       "1  2020-01-12      0      0   2000   1000      4000    2000    2000    15000   \n",
       "86 2021-08-29   4000   1000   3000      0     15000   19000   12000    26000   \n",
       "\n",
       "    invTotal   Sales     ROI  \n",
       "45     90000   55611  0.6179  \n",
       "46     55000   56932  1.0351  \n",
       "2      54000    3680  0.0681  \n",
       "1      26000   13493  0.5190  \n",
       "86     80000  115393  1.4424  "
      ]
     },
     "execution_count": 13,
     "metadata": {},
     "output_type": "execute_result"
    }
   ],
   "source": [
    "df_inv_med.eval('invTotal = Print + Other + Email + Radio + Facebook + Google + `Pay TV` + `Open TV`', inplace=True)\n",
    "df_inv_med = pd.concat([df_inv_med, df_sales['Sales']], axis=1)\n",
    "df_inv_med['ROI'] = round(df_inv_med['Sales']/df_inv_med['invTotal'], 4)\n",
    "df_inv_med.sample(5)"
   ]
  },
  {
   "cell_type": "code",
   "execution_count": 14,
   "id": "cc063a68-4c8a-445b-98c3-39bcb466382b",
   "metadata": {},
   "outputs": [
    {
     "data": {
      "text/plain": [
       "7596155"
      ]
     },
     "execution_count": 14,
     "metadata": {},
     "output_type": "execute_result"
    }
   ],
   "source": [
    "df_inv_med.Sales.sum()"
   ]
  },
  {
   "cell_type": "code",
   "execution_count": 15,
   "id": "c4ba8c0e-95fd-406a-ae0e-27521757db95",
   "metadata": {},
   "outputs": [
    {
     "data": {
      "text/plain": [
       "5781000"
      ]
     },
     "execution_count": 15,
     "metadata": {},
     "output_type": "execute_result"
    }
   ],
   "source": [
    "df_inv_med.invTotal.sum()"
   ]
  },
  {
   "cell_type": "code",
   "execution_count": 16,
   "id": "af5b3bcd-da52-4408-94db-620f3a60f23b",
   "metadata": {},
   "outputs": [
    {
     "data": {
      "text/plain": [
       "1.3139863345441964"
      ]
     },
     "execution_count": 16,
     "metadata": {},
     "output_type": "execute_result"
    }
   ],
   "source": [
    "df_inv_med.Sales.sum()/df_inv_med.invTotal.sum()"
   ]
  },
  {
   "cell_type": "code",
   "execution_count": 17,
   "id": "a746dfbb-c485-4684-9b87-794454f1f059",
   "metadata": {},
   "outputs": [
    {
     "name": "stdout",
     "output_type": "stream",
     "text": [
      "79 de las 104 semanas hubo mejores ventas que inversion\n"
     ]
    }
   ],
   "source": [
    "positive_ratio = df_inv_med.query('ROI >= 1').shape[0]\n",
    "print(f'{positive_ratio} de las {df_inv_med.shape[0]} semanas hubo mejores ventas que inversion')"
   ]
  },
  {
   "cell_type": "code",
   "execution_count": 18,
   "id": "6f8e6b65-cdbb-4325-8d62-3721d4cf7bd7",
   "metadata": {},
   "outputs": [
    {
     "data": {
      "text/html": [
       "<div>\n",
       "<style scoped>\n",
       "    .dataframe tbody tr th:only-of-type {\n",
       "        vertical-align: middle;\n",
       "    }\n",
       "\n",
       "    .dataframe tbody tr th {\n",
       "        vertical-align: top;\n",
       "    }\n",
       "\n",
       "    .dataframe thead th {\n",
       "        text-align: right;\n",
       "    }\n",
       "</style>\n",
       "<table border=\"1\" class=\"dataframe\">\n",
       "  <thead>\n",
       "    <tr style=\"text-align: right;\">\n",
       "      <th></th>\n",
       "      <th>count</th>\n",
       "      <th>mean</th>\n",
       "      <th>std</th>\n",
       "      <th>min</th>\n",
       "      <th>25%</th>\n",
       "      <th>50%</th>\n",
       "      <th>75%</th>\n",
       "      <th>max</th>\n",
       "    </tr>\n",
       "  </thead>\n",
       "  <tbody>\n",
       "    <tr>\n",
       "      <th>Print</th>\n",
       "      <td>104.0</td>\n",
       "      <td>1721.153846</td>\n",
       "      <td>1748.545752</td>\n",
       "      <td>0.0000</td>\n",
       "      <td>0.0000</td>\n",
       "      <td>1000.00000</td>\n",
       "      <td>3000.000000</td>\n",
       "      <td>6000.0000</td>\n",
       "    </tr>\n",
       "    <tr>\n",
       "      <th>Other</th>\n",
       "      <td>104.0</td>\n",
       "      <td>1201.923077</td>\n",
       "      <td>1152.286100</td>\n",
       "      <td>0.0000</td>\n",
       "      <td>0.0000</td>\n",
       "      <td>1000.00000</td>\n",
       "      <td>2000.000000</td>\n",
       "      <td>5000.0000</td>\n",
       "    </tr>\n",
       "    <tr>\n",
       "      <th>Email</th>\n",
       "      <td>104.0</td>\n",
       "      <td>3509.615385</td>\n",
       "      <td>2207.644232</td>\n",
       "      <td>0.0000</td>\n",
       "      <td>2000.0000</td>\n",
       "      <td>3000.00000</td>\n",
       "      <td>5000.000000</td>\n",
       "      <td>7000.0000</td>\n",
       "    </tr>\n",
       "    <tr>\n",
       "      <th>Radio</th>\n",
       "      <td>104.0</td>\n",
       "      <td>480.769231</td>\n",
       "      <td>557.051343</td>\n",
       "      <td>0.0000</td>\n",
       "      <td>0.0000</td>\n",
       "      <td>0.00000</td>\n",
       "      <td>1000.000000</td>\n",
       "      <td>3000.0000</td>\n",
       "    </tr>\n",
       "    <tr>\n",
       "      <th>Facebook</th>\n",
       "      <td>104.0</td>\n",
       "      <td>8961.538462</td>\n",
       "      <td>4946.162731</td>\n",
       "      <td>1000.0000</td>\n",
       "      <td>5000.0000</td>\n",
       "      <td>9000.00000</td>\n",
       "      <td>12250.000000</td>\n",
       "      <td>17000.0000</td>\n",
       "    </tr>\n",
       "    <tr>\n",
       "      <th>Google</th>\n",
       "      <td>104.0</td>\n",
       "      <td>10865.384615</td>\n",
       "      <td>5466.682301</td>\n",
       "      <td>1000.0000</td>\n",
       "      <td>6000.0000</td>\n",
       "      <td>12000.00000</td>\n",
       "      <td>15250.000000</td>\n",
       "      <td>22000.0000</td>\n",
       "    </tr>\n",
       "    <tr>\n",
       "      <th>Pay TV</th>\n",
       "      <td>104.0</td>\n",
       "      <td>9778.846154</td>\n",
       "      <td>11701.760494</td>\n",
       "      <td>0.0000</td>\n",
       "      <td>1000.0000</td>\n",
       "      <td>5000.00000</td>\n",
       "      <td>15000.000000</td>\n",
       "      <td>55000.0000</td>\n",
       "    </tr>\n",
       "    <tr>\n",
       "      <th>Open TV</th>\n",
       "      <td>104.0</td>\n",
       "      <td>19067.307692</td>\n",
       "      <td>21754.706855</td>\n",
       "      <td>0.0000</td>\n",
       "      <td>0.0000</td>\n",
       "      <td>10000.00000</td>\n",
       "      <td>35000.000000</td>\n",
       "      <td>89000.0000</td>\n",
       "    </tr>\n",
       "    <tr>\n",
       "      <th>invTotal</th>\n",
       "      <td>104.0</td>\n",
       "      <td>55586.538462</td>\n",
       "      <td>35328.310542</td>\n",
       "      <td>10000.0000</td>\n",
       "      <td>30750.0000</td>\n",
       "      <td>42500.00000</td>\n",
       "      <td>74500.000000</td>\n",
       "      <td>167000.0000</td>\n",
       "    </tr>\n",
       "    <tr>\n",
       "      <th>Sales</th>\n",
       "      <td>104.0</td>\n",
       "      <td>73039.951923</td>\n",
       "      <td>48124.138824</td>\n",
       "      <td>3680.0000</td>\n",
       "      <td>44487.0000</td>\n",
       "      <td>61091.00000</td>\n",
       "      <td>92539.250000</td>\n",
       "      <td>284575.0000</td>\n",
       "    </tr>\n",
       "    <tr>\n",
       "      <th>ROI</th>\n",
       "      <td>104.0</td>\n",
       "      <td>1.498343</td>\n",
       "      <td>0.732240</td>\n",
       "      <td>0.0681</td>\n",
       "      <td>1.0283</td>\n",
       "      <td>1.31205</td>\n",
       "      <td>1.896325</td>\n",
       "      <td>3.4722</td>\n",
       "    </tr>\n",
       "  </tbody>\n",
       "</table>\n",
       "</div>"
      ],
      "text/plain": [
       "          count          mean           std         min         25%  \\\n",
       "Print     104.0   1721.153846   1748.545752      0.0000      0.0000   \n",
       "Other     104.0   1201.923077   1152.286100      0.0000      0.0000   \n",
       "Email     104.0   3509.615385   2207.644232      0.0000   2000.0000   \n",
       "Radio     104.0    480.769231    557.051343      0.0000      0.0000   \n",
       "Facebook  104.0   8961.538462   4946.162731   1000.0000   5000.0000   \n",
       "Google    104.0  10865.384615   5466.682301   1000.0000   6000.0000   \n",
       "Pay TV    104.0   9778.846154  11701.760494      0.0000   1000.0000   \n",
       "Open TV   104.0  19067.307692  21754.706855      0.0000      0.0000   \n",
       "invTotal  104.0  55586.538462  35328.310542  10000.0000  30750.0000   \n",
       "Sales     104.0  73039.951923  48124.138824   3680.0000  44487.0000   \n",
       "ROI       104.0      1.498343      0.732240      0.0681      1.0283   \n",
       "\n",
       "                  50%           75%          max  \n",
       "Print      1000.00000   3000.000000    6000.0000  \n",
       "Other      1000.00000   2000.000000    5000.0000  \n",
       "Email      3000.00000   5000.000000    7000.0000  \n",
       "Radio         0.00000   1000.000000    3000.0000  \n",
       "Facebook   9000.00000  12250.000000   17000.0000  \n",
       "Google    12000.00000  15250.000000   22000.0000  \n",
       "Pay TV     5000.00000  15000.000000   55000.0000  \n",
       "Open TV   10000.00000  35000.000000   89000.0000  \n",
       "invTotal  42500.00000  74500.000000  167000.0000  \n",
       "Sales     61091.00000  92539.250000  284575.0000  \n",
       "ROI           1.31205      1.896325       3.4722  "
      ]
     },
     "execution_count": 18,
     "metadata": {},
     "output_type": "execute_result"
    }
   ],
   "source": [
    "df_inv_med.describe().T"
   ]
  },
  {
   "cell_type": "code",
   "execution_count": 19,
   "id": "8b8f382c-efd8-482d-94c2-71716da81dc4",
   "metadata": {},
   "outputs": [],
   "source": [
    "def viz_corr(data):\n",
    "    corrMatrix = data.corr().reset_index().melt('index')\n",
    "    corrMatrix.columns = ['var1', 'var2', 'correlation']\n",
    "    \n",
    "    base = alt.Chart(corrMatrix).transform_filter(\n",
    "        alt.datum.var1 < alt.datum.var2\n",
    "    ).encode(\n",
    "        x=alt.X('var1', title=''),\n",
    "        y=alt.Y('var2', title=''),\n",
    "        tooltip=['var1', 'var2', 'correlation']\n",
    "    ).properties(\n",
    "        width=alt.Step(40),\n",
    "        height=alt.Step(40)\n",
    "    )\n",
    "\n",
    "    rects = base.mark_rect().encode(\n",
    "        color=alt.Color('correlation', legend=None)\n",
    "    )\n",
    "\n",
    "    text = base.mark_text(\n",
    "        size=11\n",
    "    ).encode(\n",
    "        text=alt.Text('correlation', format=\".2f\"),\n",
    "        color=alt.condition(\n",
    "            \"datum.correlation > 0.5\",\n",
    "            alt.value('white'),\n",
    "            alt.value('black')\n",
    "        )\n",
    "    )\n",
    "    \n",
    "    display(rects + text)"
   ]
  },
  {
   "cell_type": "code",
   "execution_count": 20,
   "id": "f012f9d4-49c2-47e2-bc89-ed72f21dde52",
   "metadata": {},
   "outputs": [
    {
     "data": {
      "text/html": [
       "\n",
       "<div id=\"altair-viz-ff129248d4d34438841dd1c9b5df3319\"></div>\n",
       "<script type=\"text/javascript\">\n",
       "  (function(spec, embedOpt){\n",
       "    let outputDiv = document.currentScript.previousElementSibling;\n",
       "    if (outputDiv.id !== \"altair-viz-ff129248d4d34438841dd1c9b5df3319\") {\n",
       "      outputDiv = document.getElementById(\"altair-viz-ff129248d4d34438841dd1c9b5df3319\");\n",
       "    }\n",
       "    const paths = {\n",
       "      \"vega\": \"https://cdn.jsdelivr.net/npm//vega@5?noext\",\n",
       "      \"vega-lib\": \"https://cdn.jsdelivr.net/npm//vega-lib?noext\",\n",
       "      \"vega-lite\": \"https://cdn.jsdelivr.net/npm//vega-lite@4.8.1?noext\",\n",
       "      \"vega-embed\": \"https://cdn.jsdelivr.net/npm//vega-embed@6?noext\",\n",
       "    };\n",
       "\n",
       "    function loadScript(lib) {\n",
       "      return new Promise(function(resolve, reject) {\n",
       "        var s = document.createElement('script');\n",
       "        s.src = paths[lib];\n",
       "        s.async = true;\n",
       "        s.onload = () => resolve(paths[lib]);\n",
       "        s.onerror = () => reject(`Error loading script: ${paths[lib]}`);\n",
       "        document.getElementsByTagName(\"head\")[0].appendChild(s);\n",
       "      });\n",
       "    }\n",
       "\n",
       "    function showError(err) {\n",
       "      outputDiv.innerHTML = `<div class=\"error\" style=\"color:red;\">${err}</div>`;\n",
       "      throw err;\n",
       "    }\n",
       "\n",
       "    function displayChart(vegaEmbed) {\n",
       "      vegaEmbed(outputDiv, spec, embedOpt)\n",
       "        .catch(err => showError(`Javascript Error: ${err.message}<br>This usually means there's a typo in your chart specification. See the javascript console for the full traceback.`));\n",
       "    }\n",
       "\n",
       "    if(typeof define === \"function\" && define.amd) {\n",
       "      requirejs.config({paths});\n",
       "      require([\"vega-embed\"], displayChart, err => showError(`Error loading script: ${err.message}`));\n",
       "    } else if (typeof vegaEmbed === \"function\") {\n",
       "      displayChart(vegaEmbed);\n",
       "    } else {\n",
       "      loadScript(\"vega\")\n",
       "        .then(() => loadScript(\"vega-lite\"))\n",
       "        .then(() => loadScript(\"vega-embed\"))\n",
       "        .catch(showError)\n",
       "        .then(() => displayChart(vegaEmbed));\n",
       "    }\n",
       "  })({\"config\": {\"view\": {\"continuousWidth\": 400, \"continuousHeight\": 300}}, \"layer\": [{\"mark\": \"rect\", \"encoding\": {\"color\": {\"type\": \"quantitative\", \"field\": \"correlation\", \"legend\": null}, \"tooltip\": [{\"type\": \"nominal\", \"field\": \"var1\"}, {\"type\": \"nominal\", \"field\": \"var2\"}, {\"type\": \"quantitative\", \"field\": \"correlation\"}], \"x\": {\"type\": \"nominal\", \"field\": \"var1\", \"title\": \"\"}, \"y\": {\"type\": \"nominal\", \"field\": \"var2\", \"title\": \"\"}}, \"height\": {\"step\": 40}, \"transform\": [{\"filter\": \"(datum.var1 < datum.var2)\"}], \"width\": {\"step\": 40}}, {\"mark\": {\"type\": \"text\", \"size\": 11}, \"encoding\": {\"color\": {\"condition\": {\"value\": \"white\", \"test\": \"datum.correlation > 0.5\"}, \"value\": \"black\"}, \"text\": {\"type\": \"quantitative\", \"field\": \"correlation\", \"format\": \".2f\"}, \"tooltip\": [{\"type\": \"nominal\", \"field\": \"var1\"}, {\"type\": \"nominal\", \"field\": \"var2\"}, {\"type\": \"quantitative\", \"field\": \"correlation\"}], \"x\": {\"type\": \"nominal\", \"field\": \"var1\", \"title\": \"\"}, \"y\": {\"type\": \"nominal\", \"field\": \"var2\", \"title\": \"\"}}, \"height\": {\"step\": 40}, \"transform\": [{\"filter\": \"(datum.var1 < datum.var2)\"}], \"width\": {\"step\": 40}}], \"data\": {\"name\": \"data-47b351235ad6d168712474230a214c5f\"}, \"$schema\": \"https://vega.github.io/schema/vega-lite/v4.8.1.json\", \"datasets\": {\"data-47b351235ad6d168712474230a214c5f\": [{\"var1\": \"Print\", \"var2\": \"Print\", \"correlation\": 1.0}, {\"var1\": \"Other\", \"var2\": \"Print\", \"correlation\": 0.3414292066978507}, {\"var1\": \"Email\", \"var2\": \"Print\", \"correlation\": 0.12268408010776952}, {\"var1\": \"Radio\", \"var2\": \"Print\", \"correlation\": -0.0304778501837106}, {\"var1\": \"Facebook\", \"var2\": \"Print\", \"correlation\": 0.2513284340646781}, {\"var1\": \"Google\", \"var2\": \"Print\", \"correlation\": 0.062054861487023875}, {\"var1\": \"Pay TV\", \"var2\": \"Print\", \"correlation\": 0.23989990276205087}, {\"var1\": \"Open TV\", \"var2\": \"Print\", \"correlation\": 0.3261722842500392}, {\"var1\": \"invTotal\", \"var2\": \"Print\", \"correlation\": 0.39292040639230635}, {\"var1\": \"Sales\", \"var2\": \"Print\", \"correlation\": 0.4205217623738571}, {\"var1\": \"ROI\", \"var2\": \"Print\", \"correlation\": -0.05331082908841405}, {\"var1\": \"Print\", \"var2\": \"Other\", \"correlation\": 0.3414292066978507}, {\"var1\": \"Other\", \"var2\": \"Other\", \"correlation\": 1.0}, {\"var1\": \"Email\", \"var2\": \"Other\", \"correlation\": -0.021761795229627085}, {\"var1\": \"Radio\", \"var2\": \"Other\", \"correlation\": -0.07708142893842204}, {\"var1\": \"Facebook\", \"var2\": \"Other\", \"correlation\": 0.10699091169518037}, {\"var1\": \"Google\", \"var2\": \"Other\", \"correlation\": 0.21088717913285474}, {\"var1\": \"Pay TV\", \"var2\": \"Other\", \"correlation\": 0.2755157414489205}, {\"var1\": \"Open TV\", \"var2\": \"Other\", \"correlation\": 0.2771477638107642}, {\"var1\": \"invTotal\", \"var2\": \"Other\", \"correlation\": 0.35647459859559405}, {\"var1\": \"Sales\", \"var2\": \"Other\", \"correlation\": 0.3535286608476894}, {\"var1\": \"ROI\", \"var2\": \"Other\", \"correlation\": -0.01443175276717421}, {\"var1\": \"Print\", \"var2\": \"Email\", \"correlation\": 0.12268408010776952}, {\"var1\": \"Other\", \"var2\": \"Email\", \"correlation\": -0.021761795229627085}, {\"var1\": \"Email\", \"var2\": \"Email\", \"correlation\": 1.0}, {\"var1\": \"Radio\", \"var2\": \"Email\", \"correlation\": -0.07484831682827375}, {\"var1\": \"Facebook\", \"var2\": \"Email\", \"correlation\": -0.02130492385240177}, {\"var1\": \"Google\", \"var2\": \"Email\", \"correlation\": -0.01759004595281003}, {\"var1\": \"Pay TV\", \"var2\": \"Email\", \"correlation\": 0.01868631570316763}, {\"var1\": \"Open TV\", \"var2\": \"Email\", \"correlation\": 0.03586857269393708}, {\"var1\": \"invTotal\", \"var2\": \"Email\", \"correlation\": 0.08924369727759628}, {\"var1\": \"Sales\", \"var2\": \"Email\", \"correlation\": 0.07314033295221022}, {\"var1\": \"ROI\", \"var2\": \"Email\", \"correlation\": -0.033917868748873814}, {\"var1\": \"Print\", \"var2\": \"Radio\", \"correlation\": -0.0304778501837106}, {\"var1\": \"Other\", \"var2\": \"Radio\", \"correlation\": -0.07708142893842204}, {\"var1\": \"Email\", \"var2\": \"Radio\", \"correlation\": -0.07484831682827375}, {\"var1\": \"Radio\", \"var2\": \"Radio\", \"correlation\": 1.0}, {\"var1\": \"Facebook\", \"var2\": \"Radio\", \"correlation\": -0.07426879189836279}, {\"var1\": \"Google\", \"var2\": \"Radio\", \"correlation\": -0.08056301963310201}, {\"var1\": \"Pay TV\", \"var2\": \"Radio\", \"correlation\": -0.028212997584079847}, {\"var1\": \"Open TV\", \"var2\": \"Radio\", \"correlation\": 0.0037130261949802554}, {\"var1\": \"invTotal\", \"var2\": \"Radio\", \"correlation\": -0.022854837451871092}, {\"var1\": \"Sales\", \"var2\": \"Radio\", \"correlation\": 0.05700684104045718}, {\"var1\": \"ROI\", \"var2\": \"Radio\", \"correlation\": 0.10023130721930366}, {\"var1\": \"Print\", \"var2\": \"Facebook\", \"correlation\": 0.2513284340646781}, {\"var1\": \"Other\", \"var2\": \"Facebook\", \"correlation\": 0.10699091169518037}, {\"var1\": \"Email\", \"var2\": \"Facebook\", \"correlation\": -0.02130492385240177}, {\"var1\": \"Radio\", \"var2\": \"Facebook\", \"correlation\": -0.07426879189836279}, {\"var1\": \"Facebook\", \"var2\": \"Facebook\", \"correlation\": 1.0}, {\"var1\": \"Google\", \"var2\": \"Facebook\", \"correlation\": 0.30931888174345934}, {\"var1\": \"Pay TV\", \"var2\": \"Facebook\", \"correlation\": 0.22093625702047479}, {\"var1\": \"Open TV\", \"var2\": \"Facebook\", \"correlation\": 0.24129385753148017}, {\"var1\": \"invTotal\", \"var2\": \"Facebook\", \"correlation\": 0.42306210069509864}, {\"var1\": \"Sales\", \"var2\": \"Facebook\", \"correlation\": 0.3428541517730658}, {\"var1\": \"ROI\", \"var2\": \"Facebook\", \"correlation\": -0.17495742484249077}, {\"var1\": \"Print\", \"var2\": \"Google\", \"correlation\": 0.062054861487023875}, {\"var1\": \"Other\", \"var2\": \"Google\", \"correlation\": 0.21088717913285474}, {\"var1\": \"Email\", \"var2\": \"Google\", \"correlation\": -0.01759004595281003}, {\"var1\": \"Radio\", \"var2\": \"Google\", \"correlation\": -0.08056301963310201}, {\"var1\": \"Facebook\", \"var2\": \"Google\", \"correlation\": 0.30931888174345934}, {\"var1\": \"Google\", \"var2\": \"Google\", \"correlation\": 1.0}, {\"var1\": \"Pay TV\", \"var2\": \"Google\", \"correlation\": 0.042481182880516416}, {\"var1\": \"Open TV\", \"var2\": \"Google\", \"correlation\": 0.06334540781229037}, {\"var1\": \"invTotal\", \"var2\": \"Google\", \"correlation\": 0.2587043342622035}, {\"var1\": \"Sales\", \"var2\": \"Google\", \"correlation\": 0.3081967415280052}, {\"var1\": \"ROI\", \"var2\": \"Google\", \"correlation\": -0.009323760247425157}, {\"var1\": \"Print\", \"var2\": \"Pay TV\", \"correlation\": 0.23989990276205087}, {\"var1\": \"Other\", \"var2\": \"Pay TV\", \"correlation\": 0.2755157414489205}, {\"var1\": \"Email\", \"var2\": \"Pay TV\", \"correlation\": 0.01868631570316763}, {\"var1\": \"Radio\", \"var2\": \"Pay TV\", \"correlation\": -0.028212997584079847}, {\"var1\": \"Facebook\", \"var2\": \"Pay TV\", \"correlation\": 0.22093625702047479}, {\"var1\": \"Google\", \"var2\": \"Pay TV\", \"correlation\": 0.042481182880516416}, {\"var1\": \"Pay TV\", \"var2\": \"Pay TV\", \"correlation\": 1.0}, {\"var1\": \"Open TV\", \"var2\": \"Pay TV\", \"correlation\": 0.7653368894220375}, {\"var1\": \"invTotal\", \"var2\": \"Pay TV\", \"correlation\": 0.8616020148315164}, {\"var1\": \"Sales\", \"var2\": \"Pay TV\", \"correlation\": 0.6883173819423561}, {\"var1\": \"ROI\", \"var2\": \"Pay TV\", \"correlation\": -0.3040063442547086}, {\"var1\": \"Print\", \"var2\": \"Open TV\", \"correlation\": 0.3261722842500392}, {\"var1\": \"Other\", \"var2\": \"Open TV\", \"correlation\": 0.2771477638107642}, {\"var1\": \"Email\", \"var2\": \"Open TV\", \"correlation\": 0.03586857269393708}, {\"var1\": \"Radio\", \"var2\": \"Open TV\", \"correlation\": 0.0037130261949802554}, {\"var1\": \"Facebook\", \"var2\": \"Open TV\", \"correlation\": 0.24129385753148017}, {\"var1\": \"Google\", \"var2\": \"Open TV\", \"correlation\": 0.06334540781229037}, {\"var1\": \"Pay TV\", \"var2\": \"Open TV\", \"correlation\": 0.7653368894220375}, {\"var1\": \"Open TV\", \"var2\": \"Open TV\", \"correlation\": 1.0}, {\"var1\": \"invTotal\", \"var2\": \"Open TV\", \"correlation\": 0.9403562553498865}, {\"var1\": \"Sales\", \"var2\": \"Open TV\", \"correlation\": 0.6563448779160351}, {\"var1\": \"ROI\", \"var2\": \"Open TV\", \"correlation\": -0.4379763503860695}, {\"var1\": \"Print\", \"var2\": \"invTotal\", \"correlation\": 0.39292040639230635}, {\"var1\": \"Other\", \"var2\": \"invTotal\", \"correlation\": 0.35647459859559405}, {\"var1\": \"Email\", \"var2\": \"invTotal\", \"correlation\": 0.08924369727759628}, {\"var1\": \"Radio\", \"var2\": \"invTotal\", \"correlation\": -0.022854837451871092}, {\"var1\": \"Facebook\", \"var2\": \"invTotal\", \"correlation\": 0.42306210069509864}, {\"var1\": \"Google\", \"var2\": \"invTotal\", \"correlation\": 0.2587043342622035}, {\"var1\": \"Pay TV\", \"var2\": \"invTotal\", \"correlation\": 0.8616020148315164}, {\"var1\": \"Open TV\", \"var2\": \"invTotal\", \"correlation\": 0.9403562553498865}, {\"var1\": \"invTotal\", \"var2\": \"invTotal\", \"correlation\": 1.0}, {\"var1\": \"Sales\", \"var2\": \"invTotal\", \"correlation\": 0.7656644917856492}, {\"var1\": \"ROI\", \"var2\": \"invTotal\", \"correlation\": -0.3999819065410036}, {\"var1\": \"Print\", \"var2\": \"Sales\", \"correlation\": 0.4205217623738571}, {\"var1\": \"Other\", \"var2\": \"Sales\", \"correlation\": 0.3535286608476894}, {\"var1\": \"Email\", \"var2\": \"Sales\", \"correlation\": 0.07314033295221022}, {\"var1\": \"Radio\", \"var2\": \"Sales\", \"correlation\": 0.05700684104045718}, {\"var1\": \"Facebook\", \"var2\": \"Sales\", \"correlation\": 0.3428541517730658}, {\"var1\": \"Google\", \"var2\": \"Sales\", \"correlation\": 0.3081967415280052}, {\"var1\": \"Pay TV\", \"var2\": \"Sales\", \"correlation\": 0.6883173819423561}, {\"var1\": \"Open TV\", \"var2\": \"Sales\", \"correlation\": 0.6563448779160351}, {\"var1\": \"invTotal\", \"var2\": \"Sales\", \"correlation\": 0.7656644917856492}, {\"var1\": \"Sales\", \"var2\": \"Sales\", \"correlation\": 1.0}, {\"var1\": \"ROI\", \"var2\": \"Sales\", \"correlation\": 0.18557703210013105}, {\"var1\": \"Print\", \"var2\": \"ROI\", \"correlation\": -0.05331082908841405}, {\"var1\": \"Other\", \"var2\": \"ROI\", \"correlation\": -0.01443175276717421}, {\"var1\": \"Email\", \"var2\": \"ROI\", \"correlation\": -0.033917868748873814}, {\"var1\": \"Radio\", \"var2\": \"ROI\", \"correlation\": 0.10023130721930366}, {\"var1\": \"Facebook\", \"var2\": \"ROI\", \"correlation\": -0.17495742484249077}, {\"var1\": \"Google\", \"var2\": \"ROI\", \"correlation\": -0.009323760247425157}, {\"var1\": \"Pay TV\", \"var2\": \"ROI\", \"correlation\": -0.3040063442547086}, {\"var1\": \"Open TV\", \"var2\": \"ROI\", \"correlation\": -0.4379763503860695}, {\"var1\": \"invTotal\", \"var2\": \"ROI\", \"correlation\": -0.3999819065410036}, {\"var1\": \"Sales\", \"var2\": \"ROI\", \"correlation\": 0.18557703210013105}, {\"var1\": \"ROI\", \"var2\": \"ROI\", \"correlation\": 1.0}]}}, {\"mode\": \"vega-lite\"});\n",
       "</script>"
      ],
      "text/plain": [
       "alt.LayerChart(...)"
      ]
     },
     "metadata": {},
     "output_type": "display_data"
    }
   ],
   "source": [
    "viz_corr(df_inv_med)"
   ]
  },
  {
   "cell_type": "code",
   "execution_count": 21,
   "id": "aa2584b0-7b17-4b3c-8990-fbc7d5e81162",
   "metadata": {},
   "outputs": [
    {
     "data": {
      "text/html": [
       "<div>\n",
       "<style scoped>\n",
       "    .dataframe tbody tr th:only-of-type {\n",
       "        vertical-align: middle;\n",
       "    }\n",
       "\n",
       "    .dataframe tbody tr th {\n",
       "        vertical-align: top;\n",
       "    }\n",
       "\n",
       "    .dataframe thead th {\n",
       "        text-align: right;\n",
       "    }\n",
       "</style>\n",
       "<table border=\"1\" class=\"dataframe\">\n",
       "  <thead>\n",
       "    <tr style=\"text-align: right;\">\n",
       "      <th></th>\n",
       "      <th>count</th>\n",
       "      <th>mean</th>\n",
       "      <th>std</th>\n",
       "      <th>min</th>\n",
       "      <th>25%</th>\n",
       "      <th>50%</th>\n",
       "      <th>75%</th>\n",
       "      <th>max</th>\n",
       "    </tr>\n",
       "  </thead>\n",
       "  <tbody>\n",
       "    <tr>\n",
       "      <th>Sales</th>\n",
       "      <td>104.0</td>\n",
       "      <td>73039.951923</td>\n",
       "      <td>48124.138824</td>\n",
       "      <td>3680.0</td>\n",
       "      <td>44487.0</td>\n",
       "      <td>61091.0</td>\n",
       "      <td>92539.25</td>\n",
       "      <td>284575.0</td>\n",
       "    </tr>\n",
       "    <tr>\n",
       "      <th>NPS</th>\n",
       "      <td>104.0</td>\n",
       "      <td>60.269231</td>\n",
       "      <td>16.306667</td>\n",
       "      <td>26.0</td>\n",
       "      <td>48.5</td>\n",
       "      <td>62.5</td>\n",
       "      <td>72.00</td>\n",
       "      <td>95.0</td>\n",
       "    </tr>\n",
       "  </tbody>\n",
       "</table>\n",
       "</div>"
      ],
      "text/plain": [
       "       count          mean           std     min      25%      50%       75%  \\\n",
       "Sales  104.0  73039.951923  48124.138824  3680.0  44487.0  61091.0  92539.25   \n",
       "NPS    104.0     60.269231     16.306667    26.0     48.5     62.5     72.00   \n",
       "\n",
       "            max  \n",
       "Sales  284575.0  \n",
       "NPS        95.0  "
      ]
     },
     "execution_count": 21,
     "metadata": {},
     "output_type": "execute_result"
    }
   ],
   "source": [
    "df_sales.describe().T"
   ]
  },
  {
   "cell_type": "code",
   "execution_count": 22,
   "id": "a8ddeb71-c855-4769-bd7a-a281a4948a6a",
   "metadata": {},
   "outputs": [
    {
     "data": {
      "text/html": [
       "\n",
       "<div id=\"altair-viz-859d7da075f64eaab6a5a8419bb42658\"></div>\n",
       "<script type=\"text/javascript\">\n",
       "  (function(spec, embedOpt){\n",
       "    let outputDiv = document.currentScript.previousElementSibling;\n",
       "    if (outputDiv.id !== \"altair-viz-859d7da075f64eaab6a5a8419bb42658\") {\n",
       "      outputDiv = document.getElementById(\"altair-viz-859d7da075f64eaab6a5a8419bb42658\");\n",
       "    }\n",
       "    const paths = {\n",
       "      \"vega\": \"https://cdn.jsdelivr.net/npm//vega@5?noext\",\n",
       "      \"vega-lib\": \"https://cdn.jsdelivr.net/npm//vega-lib?noext\",\n",
       "      \"vega-lite\": \"https://cdn.jsdelivr.net/npm//vega-lite@4.8.1?noext\",\n",
       "      \"vega-embed\": \"https://cdn.jsdelivr.net/npm//vega-embed@6?noext\",\n",
       "    };\n",
       "\n",
       "    function loadScript(lib) {\n",
       "      return new Promise(function(resolve, reject) {\n",
       "        var s = document.createElement('script');\n",
       "        s.src = paths[lib];\n",
       "        s.async = true;\n",
       "        s.onload = () => resolve(paths[lib]);\n",
       "        s.onerror = () => reject(`Error loading script: ${paths[lib]}`);\n",
       "        document.getElementsByTagName(\"head\")[0].appendChild(s);\n",
       "      });\n",
       "    }\n",
       "\n",
       "    function showError(err) {\n",
       "      outputDiv.innerHTML = `<div class=\"error\" style=\"color:red;\">${err}</div>`;\n",
       "      throw err;\n",
       "    }\n",
       "\n",
       "    function displayChart(vegaEmbed) {\n",
       "      vegaEmbed(outputDiv, spec, embedOpt)\n",
       "        .catch(err => showError(`Javascript Error: ${err.message}<br>This usually means there's a typo in your chart specification. See the javascript console for the full traceback.`));\n",
       "    }\n",
       "\n",
       "    if(typeof define === \"function\" && define.amd) {\n",
       "      requirejs.config({paths});\n",
       "      require([\"vega-embed\"], displayChart, err => showError(`Error loading script: ${err.message}`));\n",
       "    } else if (typeof vegaEmbed === \"function\") {\n",
       "      displayChart(vegaEmbed);\n",
       "    } else {\n",
       "      loadScript(\"vega\")\n",
       "        .then(() => loadScript(\"vega-lite\"))\n",
       "        .then(() => loadScript(\"vega-embed\"))\n",
       "        .catch(showError)\n",
       "        .then(() => displayChart(vegaEmbed));\n",
       "    }\n",
       "  })({\"config\": {\"view\": {\"continuousWidth\": 400, \"continuousHeight\": 300}}, \"layer\": [{\"mark\": \"rect\", \"encoding\": {\"color\": {\"type\": \"quantitative\", \"field\": \"correlation\", \"legend\": null}, \"tooltip\": [{\"type\": \"nominal\", \"field\": \"var1\"}, {\"type\": \"nominal\", \"field\": \"var2\"}, {\"type\": \"quantitative\", \"field\": \"correlation\"}], \"x\": {\"type\": \"nominal\", \"field\": \"var1\", \"title\": \"\"}, \"y\": {\"type\": \"nominal\", \"field\": \"var2\", \"title\": \"\"}}, \"height\": {\"step\": 40}, \"transform\": [{\"filter\": \"(datum.var1 < datum.var2)\"}], \"width\": {\"step\": 40}}, {\"mark\": {\"type\": \"text\", \"size\": 11}, \"encoding\": {\"color\": {\"condition\": {\"value\": \"white\", \"test\": \"datum.correlation > 0.5\"}, \"value\": \"black\"}, \"text\": {\"type\": \"quantitative\", \"field\": \"correlation\", \"format\": \".2f\"}, \"tooltip\": [{\"type\": \"nominal\", \"field\": \"var1\"}, {\"type\": \"nominal\", \"field\": \"var2\"}, {\"type\": \"quantitative\", \"field\": \"correlation\"}], \"x\": {\"type\": \"nominal\", \"field\": \"var1\", \"title\": \"\"}, \"y\": {\"type\": \"nominal\", \"field\": \"var2\", \"title\": \"\"}}, \"height\": {\"step\": 40}, \"transform\": [{\"filter\": \"(datum.var1 < datum.var2)\"}], \"width\": {\"step\": 40}}], \"data\": {\"name\": \"data-46f9fb6f7c9e84f368a966ea777c4763\"}, \"$schema\": \"https://vega.github.io/schema/vega-lite/v4.8.1.json\", \"datasets\": {\"data-46f9fb6f7c9e84f368a966ea777c4763\": [{\"var1\": \"Sales\", \"var2\": \"Sales\", \"correlation\": 1.0}, {\"var1\": \"NPS\", \"var2\": \"Sales\", \"correlation\": 0.3963956551476487}, {\"var1\": \"Sales\", \"var2\": \"NPS\", \"correlation\": 0.3963956551476487}, {\"var1\": \"NPS\", \"var2\": \"NPS\", \"correlation\": 1.0}]}}, {\"mode\": \"vega-lite\"});\n",
       "</script>"
      ],
      "text/plain": [
       "alt.LayerChart(...)"
      ]
     },
     "metadata": {},
     "output_type": "display_data"
    }
   ],
   "source": [
    "viz_corr(df_sales)"
   ]
  },
  {
   "cell_type": "code",
   "execution_count": 23,
   "id": "3ae2b8d4-2cca-4efb-a8a4-3e41f6e9c909",
   "metadata": {},
   "outputs": [],
   "source": [
    "df_mmean = df_inv_med[['Date', 'invTotal', 'Sales']].copy()\n",
    "df_mmean = df_mmean.groupby(pd.Grouper(key= 'Date', freq= 'm')).mean()\n",
    "df_mmean = df_mmean.rename(columns={'invTotal': 'mean_invTotal', 'Sales': 'mean_Sales'}).to_period('m')"
   ]
  },
  {
   "cell_type": "code",
   "execution_count": 24,
   "id": "a1444daf-6fad-4a52-a9d8-781534a50a17",
   "metadata": {},
   "outputs": [],
   "source": [
    "df_mmedian = df_inv_med[['Date', 'invTotal', 'Sales']].copy()\n",
    "df_mmedian = df_mmedian.groupby(pd.Grouper(key= 'Date', freq= 'm')).median()\n",
    "df_mmedian = df_mmedian.rename(columns={'invTotal': 'median_invTotal', 'Sales': 'median_Sales'}).to_period('m')"
   ]
  },
  {
   "cell_type": "code",
   "execution_count": 25,
   "id": "a133c561-63c6-4d52-b374-71c7a7c64c5e",
   "metadata": {},
   "outputs": [],
   "source": [
    "df_ymean = df_inv_med[['Date', 'invTotal', 'Sales']].copy()\n",
    "df_ymean = df_ymean.groupby(pd.Grouper(key= 'Date', freq= 'y')).mean()\n",
    "df_ymean = df_ymean.rename(columns={'invTotal': 'mean_invTotal', 'Sales': 'mean_Sales'}).to_period('y')"
   ]
  },
  {
   "cell_type": "code",
   "execution_count": 26,
   "id": "7c67b2c1-2bff-4e91-afc5-67895d322887",
   "metadata": {},
   "outputs": [],
   "source": [
    "df_ymedian = df_inv_med[['Date', 'invTotal', 'Sales']].copy()\n",
    "df_ymedian = df_ymedian.groupby(pd.Grouper(key= 'Date', freq= 'y')).median()\n",
    "df_ymedian = df_ymedian.rename(columns={'invTotal': 'median_invTotal', 'Sales': 'median_Sales'}).to_period('y')"
   ]
  },
  {
   "cell_type": "code",
   "execution_count": 27,
   "id": "0ddae497-add2-40d1-ad7e-e6e12a5f0257",
   "metadata": {},
   "outputs": [
    {
     "data": {
      "text/html": [
       "<div>\n",
       "<style scoped>\n",
       "    .dataframe tbody tr th:only-of-type {\n",
       "        vertical-align: middle;\n",
       "    }\n",
       "\n",
       "    .dataframe tbody tr th {\n",
       "        vertical-align: top;\n",
       "    }\n",
       "\n",
       "    .dataframe thead th {\n",
       "        text-align: right;\n",
       "    }\n",
       "</style>\n",
       "<table border=\"1\" class=\"dataframe\">\n",
       "  <thead>\n",
       "    <tr style=\"text-align: right;\">\n",
       "      <th></th>\n",
       "      <th>mean_invTotal</th>\n",
       "      <th>mean_Sales</th>\n",
       "      <th>median_invTotal</th>\n",
       "      <th>median_Sales</th>\n",
       "    </tr>\n",
       "    <tr>\n",
       "      <th>Date</th>\n",
       "      <th></th>\n",
       "      <th></th>\n",
       "      <th></th>\n",
       "      <th></th>\n",
       "    </tr>\n",
       "  </thead>\n",
       "  <tbody>\n",
       "    <tr>\n",
       "      <th>2020-01</th>\n",
       "      <td>42000.0</td>\n",
       "      <td>25466.25</td>\n",
       "      <td>40000.0</td>\n",
       "      <td>12268.0</td>\n",
       "    </tr>\n",
       "    <tr>\n",
       "      <th>2020-02</th>\n",
       "      <td>63250.0</td>\n",
       "      <td>51618.00</td>\n",
       "      <td>70500.0</td>\n",
       "      <td>49996.0</td>\n",
       "    </tr>\n",
       "    <tr>\n",
       "      <th>2020-03</th>\n",
       "      <td>37600.0</td>\n",
       "      <td>37934.00</td>\n",
       "      <td>19000.0</td>\n",
       "      <td>26923.0</td>\n",
       "    </tr>\n",
       "    <tr>\n",
       "      <th>2020-04</th>\n",
       "      <td>27750.0</td>\n",
       "      <td>39511.25</td>\n",
       "      <td>29500.0</td>\n",
       "      <td>38003.5</td>\n",
       "    </tr>\n",
       "    <tr>\n",
       "      <th>2020-05</th>\n",
       "      <td>52200.0</td>\n",
       "      <td>53914.60</td>\n",
       "      <td>42000.0</td>\n",
       "      <td>41001.0</td>\n",
       "    </tr>\n",
       "    <tr>\n",
       "      <th>2020-06</th>\n",
       "      <td>23750.0</td>\n",
       "      <td>46771.75</td>\n",
       "      <td>24000.0</td>\n",
       "      <td>44609.5</td>\n",
       "    </tr>\n",
       "    <tr>\n",
       "      <th>2020-07</th>\n",
       "      <td>73500.0</td>\n",
       "      <td>58327.00</td>\n",
       "      <td>77000.0</td>\n",
       "      <td>58166.5</td>\n",
       "    </tr>\n",
       "    <tr>\n",
       "      <th>2020-08</th>\n",
       "      <td>37600.0</td>\n",
       "      <td>49707.20</td>\n",
       "      <td>34000.0</td>\n",
       "      <td>49575.0</td>\n",
       "    </tr>\n",
       "    <tr>\n",
       "      <th>2020-09</th>\n",
       "      <td>39000.0</td>\n",
       "      <td>46589.75</td>\n",
       "      <td>37500.0</td>\n",
       "      <td>47537.0</td>\n",
       "    </tr>\n",
       "    <tr>\n",
       "      <th>2020-10</th>\n",
       "      <td>37000.0</td>\n",
       "      <td>41944.00</td>\n",
       "      <td>38500.0</td>\n",
       "      <td>47301.0</td>\n",
       "    </tr>\n",
       "    <tr>\n",
       "      <th>2020-11</th>\n",
       "      <td>68800.0</td>\n",
       "      <td>78629.60</td>\n",
       "      <td>67000.0</td>\n",
       "      <td>78630.0</td>\n",
       "    </tr>\n",
       "    <tr>\n",
       "      <th>2020-12</th>\n",
       "      <td>128250.0</td>\n",
       "      <td>162449.50</td>\n",
       "      <td>137000.0</td>\n",
       "      <td>168020.0</td>\n",
       "    </tr>\n",
       "    <tr>\n",
       "      <th>2021-01</th>\n",
       "      <td>52600.0</td>\n",
       "      <td>73674.60</td>\n",
       "      <td>29000.0</td>\n",
       "      <td>37306.0</td>\n",
       "    </tr>\n",
       "    <tr>\n",
       "      <th>2021-02</th>\n",
       "      <td>72000.0</td>\n",
       "      <td>72631.00</td>\n",
       "      <td>67000.0</td>\n",
       "      <td>53176.0</td>\n",
       "    </tr>\n",
       "    <tr>\n",
       "      <th>2021-03</th>\n",
       "      <td>33250.0</td>\n",
       "      <td>71185.50</td>\n",
       "      <td>34500.0</td>\n",
       "      <td>73862.0</td>\n",
       "    </tr>\n",
       "    <tr>\n",
       "      <th>2021-04</th>\n",
       "      <td>33500.0</td>\n",
       "      <td>64252.50</td>\n",
       "      <td>36000.0</td>\n",
       "      <td>72578.5</td>\n",
       "    </tr>\n",
       "    <tr>\n",
       "      <th>2021-05</th>\n",
       "      <td>47000.0</td>\n",
       "      <td>63454.80</td>\n",
       "      <td>39000.0</td>\n",
       "      <td>64150.0</td>\n",
       "    </tr>\n",
       "    <tr>\n",
       "      <th>2021-06</th>\n",
       "      <td>37500.0</td>\n",
       "      <td>71290.00</td>\n",
       "      <td>38500.0</td>\n",
       "      <td>66709.0</td>\n",
       "    </tr>\n",
       "    <tr>\n",
       "      <th>2021-07</th>\n",
       "      <td>63500.0</td>\n",
       "      <td>78355.50</td>\n",
       "      <td>57500.0</td>\n",
       "      <td>72398.5</td>\n",
       "    </tr>\n",
       "    <tr>\n",
       "      <th>2021-08</th>\n",
       "      <td>50800.0</td>\n",
       "      <td>94075.40</td>\n",
       "      <td>34000.0</td>\n",
       "      <td>93387.0</td>\n",
       "    </tr>\n",
       "    <tr>\n",
       "      <th>2021-09</th>\n",
       "      <td>65250.0</td>\n",
       "      <td>93091.25</td>\n",
       "      <td>67000.0</td>\n",
       "      <td>92155.5</td>\n",
       "    </tr>\n",
       "    <tr>\n",
       "      <th>2021-10</th>\n",
       "      <td>34400.0</td>\n",
       "      <td>85636.60</td>\n",
       "      <td>34000.0</td>\n",
       "      <td>88380.0</td>\n",
       "    </tr>\n",
       "    <tr>\n",
       "      <th>2021-11</th>\n",
       "      <td>79500.0</td>\n",
       "      <td>104488.75</td>\n",
       "      <td>87000.0</td>\n",
       "      <td>102075.0</td>\n",
       "    </tr>\n",
       "    <tr>\n",
       "      <th>2021-12</th>\n",
       "      <td>150000.0</td>\n",
       "      <td>199783.25</td>\n",
       "      <td>149500.0</td>\n",
       "      <td>201699.0</td>\n",
       "    </tr>\n",
       "  </tbody>\n",
       "</table>\n",
       "</div>"
      ],
      "text/plain": [
       "         mean_invTotal  mean_Sales  median_invTotal  median_Sales\n",
       "Date                                                             \n",
       "2020-01        42000.0    25466.25          40000.0       12268.0\n",
       "2020-02        63250.0    51618.00          70500.0       49996.0\n",
       "2020-03        37600.0    37934.00          19000.0       26923.0\n",
       "2020-04        27750.0    39511.25          29500.0       38003.5\n",
       "2020-05        52200.0    53914.60          42000.0       41001.0\n",
       "2020-06        23750.0    46771.75          24000.0       44609.5\n",
       "2020-07        73500.0    58327.00          77000.0       58166.5\n",
       "2020-08        37600.0    49707.20          34000.0       49575.0\n",
       "2020-09        39000.0    46589.75          37500.0       47537.0\n",
       "2020-10        37000.0    41944.00          38500.0       47301.0\n",
       "2020-11        68800.0    78629.60          67000.0       78630.0\n",
       "2020-12       128250.0   162449.50         137000.0      168020.0\n",
       "2021-01        52600.0    73674.60          29000.0       37306.0\n",
       "2021-02        72000.0    72631.00          67000.0       53176.0\n",
       "2021-03        33250.0    71185.50          34500.0       73862.0\n",
       "2021-04        33500.0    64252.50          36000.0       72578.5\n",
       "2021-05        47000.0    63454.80          39000.0       64150.0\n",
       "2021-06        37500.0    71290.00          38500.0       66709.0\n",
       "2021-07        63500.0    78355.50          57500.0       72398.5\n",
       "2021-08        50800.0    94075.40          34000.0       93387.0\n",
       "2021-09        65250.0    93091.25          67000.0       92155.5\n",
       "2021-10        34400.0    85636.60          34000.0       88380.0\n",
       "2021-11        79500.0   104488.75          87000.0      102075.0\n",
       "2021-12       150000.0   199783.25         149500.0      201699.0"
      ]
     },
     "execution_count": 27,
     "metadata": {},
     "output_type": "execute_result"
    }
   ],
   "source": [
    "df_monthly= pd.concat([df_mmean, df_mmedian], axis= 1)\n",
    "df_monthly"
   ]
  },
  {
   "cell_type": "code",
   "execution_count": 28,
   "id": "a4985074-0596-4580-bbdb-b2bf48124cd2",
   "metadata": {},
   "outputs": [
    {
     "data": {
      "text/html": [
       "<div>\n",
       "<style scoped>\n",
       "    .dataframe tbody tr th:only-of-type {\n",
       "        vertical-align: middle;\n",
       "    }\n",
       "\n",
       "    .dataframe tbody tr th {\n",
       "        vertical-align: top;\n",
       "    }\n",
       "\n",
       "    .dataframe thead th {\n",
       "        text-align: right;\n",
       "    }\n",
       "</style>\n",
       "<table border=\"1\" class=\"dataframe\">\n",
       "  <thead>\n",
       "    <tr style=\"text-align: right;\">\n",
       "      <th></th>\n",
       "      <th>mean_invTotal</th>\n",
       "      <th>mean_Sales</th>\n",
       "      <th>median_invTotal</th>\n",
       "      <th>median_Sales</th>\n",
       "    </tr>\n",
       "    <tr>\n",
       "      <th>Date</th>\n",
       "      <th></th>\n",
       "      <th></th>\n",
       "      <th></th>\n",
       "      <th></th>\n",
       "    </tr>\n",
       "  </thead>\n",
       "  <tbody>\n",
       "    <tr>\n",
       "      <th>2020</th>\n",
       "      <td>52288.461538</td>\n",
       "      <td>57531.480769</td>\n",
       "      <td>41500.0</td>\n",
       "      <td>48240.0</td>\n",
       "    </tr>\n",
       "    <tr>\n",
       "      <th>2021</th>\n",
       "      <td>58884.615385</td>\n",
       "      <td>88548.423077</td>\n",
       "      <td>44500.0</td>\n",
       "      <td>84053.5</td>\n",
       "    </tr>\n",
       "  </tbody>\n",
       "</table>\n",
       "</div>"
      ],
      "text/plain": [
       "      mean_invTotal    mean_Sales  median_invTotal  median_Sales\n",
       "Date                                                            \n",
       "2020   52288.461538  57531.480769          41500.0       48240.0\n",
       "2021   58884.615385  88548.423077          44500.0       84053.5"
      ]
     },
     "execution_count": 28,
     "metadata": {},
     "output_type": "execute_result"
    }
   ],
   "source": [
    "df_yearly= pd.concat([df_ymean, df_ymedian], axis= 1)\n",
    "df_yearly"
   ]
  },
  {
   "cell_type": "code",
   "execution_count": 29,
   "id": "89906b4d-c6a4-4da1-9721-d94084d51494",
   "metadata": {},
   "outputs": [
    {
     "data": {
      "image/png": "[encoded data removed]",
      "text/plain": [
       "<Figure size 1080x504 with 4 Axes>"
      ]
     },
     "metadata": {
      "needs_background": "light"
     },
     "output_type": "display_data"
    }
   ],
   "source": [
    "import matplotlib.pyplot as plt\n",
    "sales = df_inv_med[['Date','Sales']].set_index('Date')\n",
    "inv = df_inv_med[['Date','invTotal']].set_index('Date')\n",
    "\n",
    "# sales.plot(grid=True)\n",
    "# sales.rolling(6).mean().plot(linewidth=4, grid=True)\n",
    "\n",
    "fig = plt.figure(figsize=(15,7))\n",
    "gs = fig.add_gridspec(2, 2, hspace=0.2, wspace=0.05)\n",
    "axs = gs.subplots(sharex='col', sharey='row')\n",
    "\n",
    "axs[0, 0].plot(sales)\n",
    "axs[0, 0].plot(sales.rolling(7).mean(), 'tab:green', linewidth=4)\n",
    "axs[0, 0].set_title('Sales')\n",
    "axs[0, 0].grid()\n",
    "\n",
    "axs[0, 1].plot(inv, 'tab:red')\n",
    "axs[0, 1].plot(inv.rolling(7).mean(), 'tab:orange', linewidth=4)\n",
    "axs[0, 1].set_title('Inv Total')\n",
    "axs[0, 1].grid()\n",
    "\n",
    "axs[1, 0].plot(sales.rolling(7).mean(), 'tab:green', linewidth=4)\n",
    "axs[1, 0].set_title('Sales 6m/mean')\n",
    "axs[1, 0].grid()\n",
    "\n",
    "axs[1, 1].plot(inv.rolling(7).mean(), 'tab:orange', linewidth=4)\n",
    "axs[1, 1].set_title('Inv Total 6m/mean')\n",
    "axs[1, 1].grid()\n",
    "\n",
    "for ax in axs.flat:\n",
    "    ax.set(xlabel='Date', ylabel='$')\n",
    "\n",
    "# Hide x labels and tick labels for top plots and y ticks for right plots.\n",
    "for ax in axs.flat:\n",
    "    ax.label_outer()"
   ]
  },
  {
   "cell_type": "code",
   "execution_count": 30,
   "id": "1fd140ee-e3f5-41cb-ae17-1825ef7e8fb8",
   "metadata": {},
   "outputs": [],
   "source": [
    "import matplotlib\n",
    "import statsmodels.api as sm\n",
    "# decomposition_sales = sm.tsa.seasonal_decompose(sales, model='additive')\n",
    "# fig = decomposition_sales.plot()\n",
    "# matplotlib.rcParams['figure.figsize'] = [8, 5]"
   ]
  },
  {
   "cell_type": "code",
   "execution_count": 31,
   "id": "1830d839-6cc1-4c55-8777-1138c064443b",
   "metadata": {},
   "outputs": [],
   "source": [
    "# decomposition_inv = sm.tsa.seasonal_decompose(inv, model='additive')\n",
    "# fig = decomposition_inv.plot()\n",
    "matplotlib.rcParams['figure.figsize'] = [8, 5]"
   ]
  },
  {
   "cell_type": "code",
   "execution_count": 32,
   "id": "05f4a3f4-e35c-4013-b790-e0d76d84f528",
   "metadata": {},
   "outputs": [
    {
     "data": {
      "image/png": "[encoded data removed]",
      "text/plain": [
       "<Figure size 576x360 with 4 Axes>"
      ]
     },
     "metadata": {
      "needs_background": "light"
     },
     "output_type": "display_data"
    }
   ],
   "source": [
    "from statsmodels.tsa.seasonal import STL\n",
    "\n",
    "stl = STL(sales, seasonal=13)\n",
    "res_sales = stl.fit()\n",
    "fig = res_sales.plot()"
   ]
  },
  {
   "cell_type": "code",
   "execution_count": 33,
   "id": "e7bb74ea-7662-4f55-b89a-d3555a2e24e0",
   "metadata": {},
   "outputs": [
    {
     "data": {
      "text/plain": [
       "[<matplotlib.lines.Line2D at 0x24086f1dfa0>]"
      ]
     },
     "execution_count": 33,
     "metadata": {},
     "output_type": "execute_result"
    },
    {
     "data": {
      "image/png": "[encoded data removed]",
      "text/plain": [
       "<Figure size 576x360 with 1 Axes>"
      ]
     },
     "metadata": {
      "needs_background": "light"
     },
     "output_type": "display_data"
    }
   ],
   "source": [
    "import matplotlib.dates as mdates\n",
    "\n",
    "fig, ax = plt.subplots()\n",
    "ax.grid(True)\n",
    "\n",
    "year = mdates.YearLocator(month=1)\n",
    "month = mdates.MonthLocator(interval=1)\n",
    "year_format = mdates.DateFormatter('%Y')\n",
    "month_format = mdates.DateFormatter('%m')\n",
    "\n",
    "ax.xaxis.set_minor_locator(month)\n",
    "\n",
    "ax.xaxis.grid(True, which = 'minor')\n",
    "ax.xaxis.set_major_locator(year)\n",
    "ax.xaxis.set_major_formatter(year_format)\n",
    "\n",
    "plt.plot(sales, c='blue')\n",
    "plt.plot(res_sales.trend.index, res_sales.trend, c='red')"
   ]
  },
  {
   "cell_type": "code",
   "execution_count": 34,
   "id": "09c09141-8985-4ddc-874c-bf574247e9c5",
   "metadata": {},
   "outputs": [
    {
     "data": {
      "image/png": "[encoded data removed]",
      "text/plain": [
       "<Figure size 576x360 with 4 Axes>"
      ]
     },
     "metadata": {
      "needs_background": "light"
     },
     "output_type": "display_data"
    }
   ],
   "source": [
    "stl = STL(inv, seasonal=13)\n",
    "res_inv = stl.fit()\n",
    "fig = res_inv.plot()"
   ]
  },
  {
   "cell_type": "code",
   "execution_count": 35,
   "id": "59a4fe0a-146c-40c0-affa-edea08570f19",
   "metadata": {},
   "outputs": [
    {
     "data": {
      "text/plain": [
       "[<matplotlib.lines.Line2D at 0x24087127a60>]"
      ]
     },
     "execution_count": 35,
     "metadata": {},
     "output_type": "execute_result"
    },
    {
     "data": {
      "image/png": "[encoded data removed]",
      "text/plain": [
       "<Figure size 576x360 with 1 Axes>"
      ]
     },
     "metadata": {
      "needs_background": "light"
     },
     "output_type": "display_data"
    }
   ],
   "source": [
    "fig, ax = plt.subplots()\n",
    "ax.grid(True)\n",
    "\n",
    "year = mdates.YearLocator(month=1)\n",
    "month = mdates.MonthLocator(interval=1)\n",
    "year_format = mdates.DateFormatter('%Y')\n",
    "month_format = mdates.DateFormatter('%m')\n",
    "\n",
    "ax.xaxis.set_minor_locator(month)\n",
    "\n",
    "ax.xaxis.grid(True, which = 'minor')\n",
    "ax.xaxis.set_major_locator(year)\n",
    "ax.xaxis.set_major_formatter(year_format)\n",
    "\n",
    "plt.plot(inv, c='blue')\n",
    "plt.plot(res_inv.trend.index, res_inv.trend, c='red')"
   ]
  },
  {
   "cell_type": "code",
   "execution_count": 36,
   "id": "d490f1bf-cebd-40d9-a680-32044fc7c38c",
   "metadata": {},
   "outputs": [
    {
     "data": {
      "text/plain": [
       "13065.458579881699"
      ]
     },
     "execution_count": 36,
     "metadata": {},
     "output_type": "execute_result"
    }
   ],
   "source": [
    "res_inv.trend.max()-res_inv.trend.min()"
   ]
  },
  {
   "cell_type": "code",
   "execution_count": 37,
   "id": "f96c9202-08d7-4490-8049-d869f5a82bff",
   "metadata": {},
   "outputs": [
    {
     "data": {
      "text/plain": [
       "61437.4049556213"
      ]
     },
     "execution_count": 37,
     "metadata": {},
     "output_type": "execute_result"
    }
   ],
   "source": [
    "res_sales.trend.max()-res_sales.trend.min()"
   ]
  }
 ],
 "metadata": {
  "kernelspec": {
   "display_name": "Python 3 (ipykernel)",
   "language": "python",
   "name": "python3"
  },
  "language_info": {
   "codemirror_mode": {
    "name": "ipython",
    "version": 3
   },
   "file_extension": ".py",
   "mimetype": "text/x-python",
   "name": "python",
   "nbconvert_exporter": "python",
   "pygments_lexer": "ipython3",
   "version": "3.9.7"
  }
 },
 "nbformat": 4,
 "nbformat_minor": 5
}
